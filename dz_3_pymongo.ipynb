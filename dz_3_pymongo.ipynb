{
 "cells": [
  {
   "cell_type": "code",
   "execution_count": 48,
   "id": "e0f21a4a",
   "metadata": {},
   "outputs": [],
   "source": [
    "import json\n",
    "import pymongo\n",
    "from pprint import pprint\n",
    "from pymongo.errors import *"
   ]
  },
  {
   "cell_type": "code",
   "execution_count": 49,
   "id": "d234ae70",
   "metadata": {},
   "outputs": [],
   "source": [
    "client = pymongo.MongoClient('127.0.0.1', 27017)"
   ]
  },
  {
   "cell_type": "code",
   "execution_count": 50,
   "id": "7d064634",
   "metadata": {},
   "outputs": [],
   "source": [
    "db = client['db01']\n",
    "vacanc = db.vacanc"
   ]
  },
  {
   "cell_type": "code",
   "execution_count": 51,
   "id": "efb68806",
   "metadata": {},
   "outputs": [],
   "source": [
    "with open('super_job_parser.json', 'r', encoding='utf-8') as g:\n",
    "    base = json.load(g)\n",
    "\n",
    "for i in base:\n",
    "    vacanc.insert_one(i)"
   ]
  },
  {
   "cell_type": "code",
   "execution_count": 61,
   "id": "d3cb5b46",
   "metadata": {},
   "outputs": [],
   "source": [
    "new_data = (\n",
    "    {'Вакансия': 'PHP Backend разработчик (Middle/Senior)', 'Ссылка': 'https://russia.superjob.ru/vakansii/programmist-matematik-4172263.html'},  \n",
    "    {'Вакансия': 'PHP Backend разработчик (Middle/Senior)', 'Ссылка': 'https://russia.superjob.ru/vakansii/php-backend-razrabotchik-41737371.html'}, \n",
    "    {'Вакансия': 'PHP Backend разработчик (Middle/Senior)', 'Ссылка': 'https://russia.superjob.ru/vakansii/programmist-matematik-417226.html'})"
   ]
  },
  {
   "cell_type": "code",
   "execution_count": 56,
   "id": "4d96a440",
   "metadata": {},
   "outputs": [],
   "source": [
    "def add_vacanc(data_base, new_d):\n",
    "    vacanc_list = []\n",
    "    for i in data_base.find({}):\n",
    "        vacanc_list.append(i)\n",
    "    for a in new_d:\n",
    "        for i in range(len(vacanc_list)):\n",
    "            if vacanc_list[i]['Ссылка'] == a['Ссылка']:\n",
    "                print(\"Вакансия уже есть в базе данных\")\n",
    "                break\n",
    "            elif i == len(vacanc_list)-1:\n",
    "                data_base.insert_one(a)\n",
    "                print('Вакансия добавлена')"
   ]
  },
  {
   "cell_type": "code",
   "execution_count": 63,
   "id": "fc135037",
   "metadata": {},
   "outputs": [
    {
     "name": "stdout",
     "output_type": "stream",
     "text": [
      "Вакансия уже есть в базе данных\n",
      "Вакансия уже есть в базе данных\n",
      "Вакансия уже есть в базе данных\n"
     ]
    }
   ],
   "source": [
    "add_vacanc(vacanc, new_data)"
   ]
  },
  {
   "cell_type": "code",
   "execution_count": 105,
   "id": "3b9bd2de",
   "metadata": {},
   "outputs": [],
   "source": [
    "def salary_find(size_of):\n",
    "    for i in vacanc.find({ '$or': [ {'От': {'$gt' : str(size_of)} }, {'До' : { '$gt' : str(size_of)} } ] } ):\n",
    "        print(i)"
   ]
  },
  {
   "cell_type": "code",
   "execution_count": 106,
   "id": "019bda2d",
   "metadata": {},
   "outputs": [
    {
     "name": "stdout",
     "output_type": "stream",
     "text": [
      "{'_id': ObjectId('622a0fef614049a31af55c3e'), 'Вакансия': 'Senior devOps', 'Ссылка': 'https://russia.superjob.ru/vakansii/senior-devops-41931608.html', 'От': '100000', 'До': 'Nan', 'Валюта': 'руб.'}\n",
      "{'_id': ObjectId('622a0fef614049a31af55c42'), 'Вакансия': 'Ведущий эксперт по бизнес-анализу', 'Ссылка': 'https://russia.superjob.ru/vakansii/veduschij-ekspert-po-biznes-analizu-40660972.html', 'От': 'Nan', 'До': '115000', 'Валюта': 'руб.'}\n",
      "{'_id': ObjectId('622a0fef614049a31af55c46'), 'Вакансия': 'Аналитик', 'Ссылка': 'https://russia.superjob.ru/vakansii/analitik-41586469.html', 'От': '40000', 'До': 'Nan', 'Валюта': 'руб.'}\n",
      "{'_id': ObjectId('622a0fef614049a31af55c47'), 'Вакансия': 'Помощник системного инженера, помощник системного администратора', 'Ссылка': 'https://russia.superjob.ru/vakansii/pomoschnik-sistemnogo-inzhenera-41934521.html', 'От': '25000', 'До': 'Nan', 'Валюта': 'руб.'}\n",
      "{'_id': ObjectId('622a0fef614049a31af55c49'), 'Вакансия': 'Главный специалист отдела мониторинга информационных и коммуникационных ресурсов, аналитик', 'Ссылка': 'https://russia.superjob.ru/vakansii/glavnyj-specialist-otdela-monitoringa-informacionnyh-i-kommunikacionnyh-resursov-41419036.html', 'От': '45000', 'До': 'Nan', 'Валюта': 'руб.'}\n",
      "{'_id': ObjectId('622a0fef614049a31af55c4d'), 'Вакансия': 'Specialist DevOps', 'Ссылка': 'https://russia.superjob.ru/vakansii/specialist-devops-40719996.html', 'От': 'Nan', 'До': '280000', 'Валюта': 'руб.'}\n",
      "{'_id': ObjectId('622a0fef614049a31af55c4e'), 'Вакансия': 'Инженер технической поддержки (со знанием Linux)', 'Ссылка': 'https://russia.superjob.ru/vakansii/inzhener-tehnicheskoj-podderzhki-41579802.html', 'От': 'Nan', 'До': '60000', 'Валюта': 'руб.'}\n",
      "{'_id': ObjectId('622a0fef614049a31af55c52'), 'Вакансия': 'Помощник DevOps Engineer', 'Ссылка': 'https://russia.superjob.ru/vakansii/pomoschnik-devops-engineer-41578643.html', 'От': '55000', 'До': 'Nan', 'Валюта': 'руб.'}\n",
      "{'_id': ObjectId('622a0fef614049a31af55c53'), 'Вакансия': 'QA Automation Engineer', 'Ссылка': 'https://russia.superjob.ru/vakansii/qa-automation-engineer-41908682.html', 'От': '100000', 'До': 'Nan', 'Валюта': 'руб.'}\n",
      "{'_id': ObjectId('622a0fef614049a31af55c54'), 'Вакансия': 'Руководитель IT-разработки', 'Ссылка': 'https://russia.superjob.ru/vakansii/rukovoditel-it-razrabotki-41679692.html', 'От': '180000', 'До': '220000', 'Валюта': 'руб.'}\n",
      "{'_id': ObjectId('622a0fef614049a31af55c56'), 'Вакансия': 'Главный специалист отдела системы оплаты проезда', 'Ссылка': 'https://russia.superjob.ru/vakansii/glavnyj-specialist-otdela-sistemy-oplaty-proezda-41418185.html', 'От': '40000', 'До': '45000', 'Валюта': 'руб.'}\n",
      "{'_id': ObjectId('622a0fef614049a31af55c57'), 'Вакансия': 'Инженер (научный сотрудник)', 'Ссылка': 'https://russia.superjob.ru/vakansii/inzhener-37710149.html', 'От': '35000', 'До': 'Nan', 'Валюта': 'руб.'}\n",
      "{'_id': ObjectId('622a0fef614049a31af55c5a'), 'Вакансия': 'Информационный аналитик', 'Ссылка': 'https://russia.superjob.ru/vakansii/informacionnyj-analitik-41788247.html', 'От': '50000', 'До': 'Nan', 'Валюта': 'руб.'}\n",
      "{'_id': ObjectId('622a0fef614049a31af55c5b'), 'Вакансия': 'Программист', 'Ссылка': 'https://russia.superjob.ru/vakansii/programmist-41764710.html', 'От': '2000', 'До': 'Nan', 'Валюта': 'руб.'}\n",
      "{'_id': ObjectId('622a154d614049a31af55c66'), 'Вакансия': 'Senior devOps', 'Ссылка': 'https://russia.superjob.ru/vakansii/senior-devops-41931608.html', 'От': '100000', 'До': 'Nan', 'Валюта': 'руб.'}\n",
      "{'_id': ObjectId('622a154d614049a31af55c6a'), 'Вакансия': 'Ведущий эксперт по бизнес-анализу', 'Ссылка': 'https://russia.superjob.ru/vakansii/veduschij-ekspert-po-biznes-analizu-40660972.html', 'От': 'Nan', 'До': '115000', 'Валюта': 'руб.'}\n",
      "{'_id': ObjectId('622a154d614049a31af55c6e'), 'Вакансия': 'Аналитик', 'Ссылка': 'https://russia.superjob.ru/vakansii/analitik-41586469.html', 'От': '40000', 'До': 'Nan', 'Валюта': 'руб.'}\n",
      "{'_id': ObjectId('622a154d614049a31af55c6f'), 'Вакансия': 'Помощник системного инженера, помощник системного администратора', 'Ссылка': 'https://russia.superjob.ru/vakansii/pomoschnik-sistemnogo-inzhenera-41934521.html', 'От': '25000', 'До': 'Nan', 'Валюта': 'руб.'}\n",
      "{'_id': ObjectId('622a154d614049a31af55c71'), 'Вакансия': 'Главный специалист отдела мониторинга информационных и коммуникационных ресурсов, аналитик', 'Ссылка': 'https://russia.superjob.ru/vakansii/glavnyj-specialist-otdela-monitoringa-informacionnyh-i-kommunikacionnyh-resursov-41419036.html', 'От': '45000', 'До': 'Nan', 'Валюта': 'руб.'}\n",
      "{'_id': ObjectId('622a154d614049a31af55c75'), 'Вакансия': 'Specialist DevOps', 'Ссылка': 'https://russia.superjob.ru/vakansii/specialist-devops-40719996.html', 'От': 'Nan', 'До': '280000', 'Валюта': 'руб.'}\n",
      "{'_id': ObjectId('622a154d614049a31af55c76'), 'Вакансия': 'Инженер технической поддержки (со знанием Linux)', 'Ссылка': 'https://russia.superjob.ru/vakansii/inzhener-tehnicheskoj-podderzhki-41579802.html', 'От': 'Nan', 'До': '60000', 'Валюта': 'руб.'}\n",
      "{'_id': ObjectId('622a154d614049a31af55c7a'), 'Вакансия': 'Помощник DevOps Engineer', 'Ссылка': 'https://russia.superjob.ru/vakansii/pomoschnik-devops-engineer-41578643.html', 'От': '55000', 'До': 'Nan', 'Валюта': 'руб.'}\n",
      "{'_id': ObjectId('622a154d614049a31af55c7b'), 'Вакансия': 'QA Automation Engineer', 'Ссылка': 'https://russia.superjob.ru/vakansii/qa-automation-engineer-41908682.html', 'От': '100000', 'До': 'Nan', 'Валюта': 'руб.'}\n",
      "{'_id': ObjectId('622a154d614049a31af55c7c'), 'Вакансия': 'Руководитель IT-разработки', 'Ссылка': 'https://russia.superjob.ru/vakansii/rukovoditel-it-razrabotki-41679692.html', 'От': '180000', 'До': '220000', 'Валюта': 'руб.'}\n",
      "{'_id': ObjectId('622a154d614049a31af55c7e'), 'Вакансия': 'Главный специалист отдела системы оплаты проезда', 'Ссылка': 'https://russia.superjob.ru/vakansii/glavnyj-specialist-otdela-sistemy-oplaty-proezda-41418185.html', 'От': '40000', 'До': '45000', 'Валюта': 'руб.'}\n",
      "{'_id': ObjectId('622a154d614049a31af55c7f'), 'Вакансия': 'Инженер (научный сотрудник)', 'Ссылка': 'https://russia.superjob.ru/vakansii/inzhener-37710149.html', 'От': '35000', 'До': 'Nan', 'Валюта': 'руб.'}\n",
      "{'_id': ObjectId('622a154d614049a31af55c82'), 'Вакансия': 'Информационный аналитик', 'Ссылка': 'https://russia.superjob.ru/vakansii/informacionnyj-analitik-41788247.html', 'От': '50000', 'До': 'Nan', 'Валюта': 'руб.'}\n",
      "{'_id': ObjectId('622a154d614049a31af55c83'), 'Вакансия': 'Программист', 'Ссылка': 'https://russia.superjob.ru/vakansii/programmist-41764710.html', 'От': '2000', 'До': 'Nan', 'Валюта': 'руб.'}\n",
      "{'_id': ObjectId('622a1973614049a31af55d2a'), 'Вакансия': 'Senior devOps', 'Ссылка': 'https://russia.superjob.ru/vakansii/senior-devops-41931608.html', 'От': '100000', 'До': 'Nan', 'Валюта': 'руб.'}\n",
      "{'_id': ObjectId('622a1973614049a31af55d2e'), 'Вакансия': 'Ведущий эксперт по бизнес-анализу', 'Ссылка': 'https://russia.superjob.ru/vakansii/veduschij-ekspert-po-biznes-analizu-40660972.html', 'От': 'Nan', 'До': '115000', 'Валюта': 'руб.'}\n",
      "{'_id': ObjectId('622a1973614049a31af55d32'), 'Вакансия': 'Аналитик', 'Ссылка': 'https://russia.superjob.ru/vakansii/analitik-41586469.html', 'От': '40000', 'До': 'Nan', 'Валюта': 'руб.'}\n",
      "{'_id': ObjectId('622a1973614049a31af55d33'), 'Вакансия': 'Помощник системного инженера, помощник системного администратора', 'Ссылка': 'https://russia.superjob.ru/vakansii/pomoschnik-sistemnogo-inzhenera-41934521.html', 'От': '25000', 'До': 'Nan', 'Валюта': 'руб.'}\n",
      "{'_id': ObjectId('622a1973614049a31af55d35'), 'Вакансия': 'Главный специалист отдела мониторинга информационных и коммуникационных ресурсов, аналитик', 'Ссылка': 'https://russia.superjob.ru/vakansii/glavnyj-specialist-otdela-monitoringa-informacionnyh-i-kommunikacionnyh-resursov-41419036.html', 'От': '45000', 'До': 'Nan', 'Валюта': 'руб.'}\n",
      "{'_id': ObjectId('622a1973614049a31af55d39'), 'Вакансия': 'Specialist DevOps', 'Ссылка': 'https://russia.superjob.ru/vakansii/specialist-devops-40719996.html', 'От': 'Nan', 'До': '280000', 'Валюта': 'руб.'}\n",
      "{'_id': ObjectId('622a1973614049a31af55d3a'), 'Вакансия': 'Инженер технической поддержки (со знанием Linux)', 'Ссылка': 'https://russia.superjob.ru/vakansii/inzhener-tehnicheskoj-podderzhki-41579802.html', 'От': 'Nan', 'До': '60000', 'Валюта': 'руб.'}\n",
      "{'_id': ObjectId('622a1973614049a31af55d3e'), 'Вакансия': 'Помощник DevOps Engineer', 'Ссылка': 'https://russia.superjob.ru/vakansii/pomoschnik-devops-engineer-41578643.html', 'От': '55000', 'До': 'Nan', 'Валюта': 'руб.'}\n",
      "{'_id': ObjectId('622a1973614049a31af55d3f'), 'Вакансия': 'QA Automation Engineer', 'Ссылка': 'https://russia.superjob.ru/vakansii/qa-automation-engineer-41908682.html', 'От': '100000', 'До': 'Nan', 'Валюта': 'руб.'}\n",
      "{'_id': ObjectId('622a1973614049a31af55d40'), 'Вакансия': 'Руководитель IT-разработки', 'Ссылка': 'https://russia.superjob.ru/vakansii/rukovoditel-it-razrabotki-41679692.html', 'От': '180000', 'До': '220000', 'Валюта': 'руб.'}\n",
      "{'_id': ObjectId('622a1973614049a31af55d42'), 'Вакансия': 'Главный специалист отдела системы оплаты проезда', 'Ссылка': 'https://russia.superjob.ru/vakansii/glavnyj-specialist-otdela-sistemy-oplaty-proezda-41418185.html', 'От': '40000', 'До': '45000', 'Валюта': 'руб.'}\n",
      "{'_id': ObjectId('622a1973614049a31af55d43'), 'Вакансия': 'Инженер (научный сотрудник)', 'Ссылка': 'https://russia.superjob.ru/vakansii/inzhener-37710149.html', 'От': '35000', 'До': 'Nan', 'Валюта': 'руб.'}\n",
      "{'_id': ObjectId('622a1973614049a31af55d46'), 'Вакансия': 'Информационный аналитик', 'Ссылка': 'https://russia.superjob.ru/vakansii/informacionnyj-analitik-41788247.html', 'От': '50000', 'До': 'Nan', 'Валюта': 'руб.'}\n",
      "{'_id': ObjectId('622a1973614049a31af55d47'), 'Вакансия': 'Программист', 'Ссылка': 'https://russia.superjob.ru/vakansii/programmist-41764710.html', 'От': '2000', 'До': 'Nan', 'Валюта': 'руб.'}\n",
      "{'_id': ObjectId('622af594b15a3cdbb0e90713'), 'Вакансия': 'Senior devOps', 'Ссылка': 'https://russia.superjob.ru/vakansii/senior-devops-41931608.html', 'От': '100000', 'До': 'Nan', 'Валюта': 'руб.'}\n",
      "{'_id': ObjectId('622af594b15a3cdbb0e90717'), 'Вакансия': 'Ведущий эксперт по бизнес-анализу', 'Ссылка': 'https://russia.superjob.ru/vakansii/veduschij-ekspert-po-biznes-analizu-40660972.html', 'От': 'Nan', 'До': '115000', 'Валюта': 'руб.'}\n",
      "{'_id': ObjectId('622af594b15a3cdbb0e9071b'), 'Вакансия': 'Аналитик', 'Ссылка': 'https://russia.superjob.ru/vakansii/analitik-41586469.html', 'От': '40000', 'До': 'Nan', 'Валюта': 'руб.'}\n",
      "{'_id': ObjectId('622af594b15a3cdbb0e9071c'), 'Вакансия': 'Помощник системного инженера, помощник системного администратора', 'Ссылка': 'https://russia.superjob.ru/vakansii/pomoschnik-sistemnogo-inzhenera-41934521.html', 'От': '25000', 'До': 'Nan', 'Валюта': 'руб.'}\n",
      "{'_id': ObjectId('622af594b15a3cdbb0e9071e'), 'Вакансия': 'Главный специалист отдела мониторинга информационных и коммуникационных ресурсов, аналитик', 'Ссылка': 'https://russia.superjob.ru/vakansii/glavnyj-specialist-otdela-monitoringa-informacionnyh-i-kommunikacionnyh-resursov-41419036.html', 'От': '45000', 'До': 'Nan', 'Валюта': 'руб.'}\n",
      "{'_id': ObjectId('622af594b15a3cdbb0e90722'), 'Вакансия': 'Specialist DevOps', 'Ссылка': 'https://russia.superjob.ru/vakansii/specialist-devops-40719996.html', 'От': 'Nan', 'До': '280000', 'Валюта': 'руб.'}\n",
      "{'_id': ObjectId('622af594b15a3cdbb0e90723'), 'Вакансия': 'Инженер технической поддержки (со знанием Linux)', 'Ссылка': 'https://russia.superjob.ru/vakansii/inzhener-tehnicheskoj-podderzhki-41579802.html', 'От': 'Nan', 'До': '60000', 'Валюта': 'руб.'}\n",
      "{'_id': ObjectId('622af594b15a3cdbb0e90727'), 'Вакансия': 'Помощник DevOps Engineer', 'Ссылка': 'https://russia.superjob.ru/vakansii/pomoschnik-devops-engineer-41578643.html', 'От': '55000', 'До': 'Nan', 'Валюта': 'руб.'}\n",
      "{'_id': ObjectId('622af594b15a3cdbb0e90728'), 'Вакансия': 'QA Automation Engineer', 'Ссылка': 'https://russia.superjob.ru/vakansii/qa-automation-engineer-41908682.html', 'От': '100000', 'До': 'Nan', 'Валюта': 'руб.'}\n",
      "{'_id': ObjectId('622af594b15a3cdbb0e90729'), 'Вакансия': 'Руководитель IT-разработки', 'Ссылка': 'https://russia.superjob.ru/vakansii/rukovoditel-it-razrabotki-41679692.html', 'От': '180000', 'До': '220000', 'Валюта': 'руб.'}\n",
      "{'_id': ObjectId('622af594b15a3cdbb0e9072b'), 'Вакансия': 'Главный специалист отдела системы оплаты проезда', 'Ссылка': 'https://russia.superjob.ru/vakansii/glavnyj-specialist-otdela-sistemy-oplaty-proezda-41418185.html', 'От': '40000', 'До': '45000', 'Валюта': 'руб.'}\n",
      "{'_id': ObjectId('622af594b15a3cdbb0e9072c'), 'Вакансия': 'Инженер (научный сотрудник)', 'Ссылка': 'https://russia.superjob.ru/vakansii/inzhener-37710149.html', 'От': '35000', 'До': 'Nan', 'Валюта': 'руб.'}\n",
      "{'_id': ObjectId('622af594b15a3cdbb0e9072f'), 'Вакансия': 'Информационный аналитик', 'Ссылка': 'https://russia.superjob.ru/vakansii/informacionnyj-analitik-41788247.html', 'От': '50000', 'До': 'Nan', 'Валюта': 'руб.'}\n",
      "{'_id': ObjectId('622af594b15a3cdbb0e90730'), 'Вакансия': 'Программист', 'Ссылка': 'https://russia.superjob.ru/vakansii/programmist-41764710.html', 'От': '2000', 'До': 'Nan', 'Валюта': 'руб.'}\n",
      "{'_id': ObjectId('622afff7b15a3cdbb0e9073a'), 'Вакансия': 'Senior devOps', 'Ссылка': 'https://russia.superjob.ru/vakansii/senior-devops-41931608.html', 'От': '100000', 'До': 'Nan', 'Валюта': 'руб.'}\n",
      "{'_id': ObjectId('622afff7b15a3cdbb0e9073e'), 'Вакансия': 'Ведущий эксперт по бизнес-анализу', 'Ссылка': 'https://russia.superjob.ru/vakansii/veduschij-ekspert-po-biznes-analizu-40660972.html', 'От': 'Nan', 'До': '115000', 'Валюта': 'руб.'}\n",
      "{'_id': ObjectId('622afff7b15a3cdbb0e90742'), 'Вакансия': 'Аналитик', 'Ссылка': 'https://russia.superjob.ru/vakansii/analitik-41586469.html', 'От': '40000', 'До': 'Nan', 'Валюта': 'руб.'}\n",
      "{'_id': ObjectId('622afff7b15a3cdbb0e90743'), 'Вакансия': 'Помощник системного инженера, помощник системного администратора', 'Ссылка': 'https://russia.superjob.ru/vakansii/pomoschnik-sistemnogo-inzhenera-41934521.html', 'От': '25000', 'До': 'Nan', 'Валюта': 'руб.'}\n",
      "{'_id': ObjectId('622afff7b15a3cdbb0e90745'), 'Вакансия': 'Главный специалист отдела мониторинга информационных и коммуникационных ресурсов, аналитик', 'Ссылка': 'https://russia.superjob.ru/vakansii/glavnyj-specialist-otdela-monitoringa-informacionnyh-i-kommunikacionnyh-resursov-41419036.html', 'От': '45000', 'До': 'Nan', 'Валюта': 'руб.'}\n",
      "{'_id': ObjectId('622afff7b15a3cdbb0e90749'), 'Вакансия': 'Specialist DevOps', 'Ссылка': 'https://russia.superjob.ru/vakansii/specialist-devops-40719996.html', 'От': 'Nan', 'До': '280000', 'Валюта': 'руб.'}\n",
      "{'_id': ObjectId('622afff7b15a3cdbb0e9074a'), 'Вакансия': 'Инженер технической поддержки (со знанием Linux)', 'Ссылка': 'https://russia.superjob.ru/vakansii/inzhener-tehnicheskoj-podderzhki-41579802.html', 'От': 'Nan', 'До': '60000', 'Валюта': 'руб.'}\n",
      "{'_id': ObjectId('622afff7b15a3cdbb0e9074e'), 'Вакансия': 'Помощник DevOps Engineer', 'Ссылка': 'https://russia.superjob.ru/vakansii/pomoschnik-devops-engineer-41578643.html', 'От': '55000', 'До': 'Nan', 'Валюта': 'руб.'}\n",
      "{'_id': ObjectId('622afff7b15a3cdbb0e9074f'), 'Вакансия': 'QA Automation Engineer', 'Ссылка': 'https://russia.superjob.ru/vakansii/qa-automation-engineer-41908682.html', 'От': '100000', 'До': 'Nan', 'Валюта': 'руб.'}\n",
      "{'_id': ObjectId('622afff7b15a3cdbb0e90750'), 'Вакансия': 'Руководитель IT-разработки', 'Ссылка': 'https://russia.superjob.ru/vakansii/rukovoditel-it-razrabotki-41679692.html', 'От': '180000', 'До': '220000', 'Валюта': 'руб.'}\n",
      "{'_id': ObjectId('622afff7b15a3cdbb0e90752'), 'Вакансия': 'Главный специалист отдела системы оплаты проезда', 'Ссылка': 'https://russia.superjob.ru/vakansii/glavnyj-specialist-otdela-sistemy-oplaty-proezda-41418185.html', 'От': '40000', 'До': '45000', 'Валюта': 'руб.'}\n",
      "{'_id': ObjectId('622afff7b15a3cdbb0e90753'), 'Вакансия': 'Инженер (научный сотрудник)', 'Ссылка': 'https://russia.superjob.ru/vakansii/inzhener-37710149.html', 'От': '35000', 'До': 'Nan', 'Валюта': 'руб.'}\n",
      "{'_id': ObjectId('622afff7b15a3cdbb0e90756'), 'Вакансия': 'Информационный аналитик', 'Ссылка': 'https://russia.superjob.ru/vakansii/informacionnyj-analitik-41788247.html', 'От': '50000', 'До': 'Nan', 'Валюта': 'руб.'}\n",
      "{'_id': ObjectId('622afff7b15a3cdbb0e90757'), 'Вакансия': 'Программист', 'Ссылка': 'https://russia.superjob.ru/vakansii/programmist-41764710.html', 'От': '2000', 'До': 'Nan', 'Валюта': 'руб.'}\n"
     ]
    }
   ],
   "source": [
    "salary_find(1000)"
   ]
  },
  {
   "cell_type": "code",
   "execution_count": null,
   "id": "a289beda",
   "metadata": {},
   "outputs": [],
   "source": []
  },
  {
   "cell_type": "code",
   "execution_count": null,
   "id": "2c7f3221",
   "metadata": {},
   "outputs": [],
   "source": []
  }
 ],
 "metadata": {
  "kernelspec": {
   "display_name": "Python 3 (ipykernel)",
   "language": "python",
   "name": "python3"
  },
  "language_info": {
   "codemirror_mode": {
    "name": "ipython",
    "version": 3
   },
   "file_extension": ".py",
   "mimetype": "text/x-python",
   "name": "python",
   "nbconvert_exporter": "python",
   "pygments_lexer": "ipython3",
   "version": "3.9.4"
  }
 },
 "nbformat": 4,
 "nbformat_minor": 5
}
